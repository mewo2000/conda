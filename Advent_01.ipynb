{
 "cells": [
  {
   "cell_type": "code",
   "execution_count": 28,
   "id": "b5ccf6c1-ea44-4bdc-ba9c-efd6ef34f4a5",
   "metadata": {},
   "outputs": [
    {
     "name": "stdout",
     "output_type": "stream",
     "text": [
      "1557\n"
     ]
    }
   ],
   "source": [
    "import math\n",
    "\n",
    "input = open('input.txt', 'r')\n",
    "input_list = []\n",
    "\n",
    "with open(\"input.txt\", \"r\") as a_file:\n",
    "    for line in input:\n",
    "        value = line.strip()\n",
    "        input_list.append(int(value))    \n",
    "input.close()\n",
    "#print(input_list)\n",
    "\n",
    "b = 0\n",
    "#input_list = iter(input_list)\n",
    "#print(len(input_list))\n",
    "\n",
    "for i in range(1, len(input_list)):\n",
    "    if input_list[i] > input_list[i - 1]:\n",
    "        b=b+1\n",
    "    #print(\"i\", input_list[i - 1])\n",
    "    #print(\"n\", input_list[i])\n",
    "    \n",
    "print(b)"
   ]
  },
  {
   "cell_type": "code",
   "execution_count": null,
   "id": "f20dd658-3572-49ad-8946-e8ebd380f6a4",
   "metadata": {},
   "outputs": [],
   "source": [
    "for item in input_list:\n",
    "    nitem = next(input_list, math.inf)\n",
    "    item = prev(input_list)\n",
    "    if nitem > item:\n",
    "        print(\"item: \", item)\n",
    "        print(\"nextitem: \", nitem)\n",
    "        b=b+1\n",
    "        #print(b)\n",
    "    \n",
    "print(b)"
   ]
  },
  {
   "cell_type": "code",
   "execution_count": null,
   "id": "8926d686-8824-45e5-90c0-cd760b166fa8",
   "metadata": {},
   "outputs": [],
   "source": []
  }
 ],
 "metadata": {
  "kernelspec": {
   "display_name": "Python 3",
   "language": "python",
   "name": "python3"
  },
  "language_info": {
   "codemirror_mode": {
    "name": "ipython",
    "version": 3
   },
   "file_extension": ".py",
   "mimetype": "text/x-python",
   "name": "python",
   "nbconvert_exporter": "python",
   "pygments_lexer": "ipython3",
   "version": "3.7.8"
  }
 },
 "nbformat": 4,
 "nbformat_minor": 5
}
