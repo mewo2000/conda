{
 "cells": [
  {
   "cell_type": "code",
   "execution_count": 3,
   "id": "31762c80-2503-4bab-a325-16ac62d9f8b6",
   "metadata": {},
   "outputs": [
    {
     "name": "stdout",
     "output_type": "stream",
     "text": [
      "2272262\n"
     ]
    }
   ],
   "source": [
    "input = open(\"input_02.txt\", \"r\")\n",
    "input_list = []\n",
    "\n",
    "for line in input:\n",
    "    value = line.strip()\n",
    "    value = value.split(' ')\n",
    "    input_list.append(value)\n",
    "        \n",
    "input.close()\n",
    "\n",
    "i=0\n",
    "j=0\n",
    "x=0\n",
    "y=0\n",
    "\n",
    "for i in range(0, len(input_list)):\n",
    "    if input_list[i][j] == \"forward\":\n",
    "        #print(input_list[i][j])\n",
    "        #print(input_list[i][j+1])\n",
    "        x = x + int(input_list[i][j+1])\n",
    "    if input_list[i][j] == \"down\":\n",
    "        y = y + int(input_list[i][j+1])\n",
    "    if input_list[i][j] == \"up\":\n",
    "         y = y - int(input_list[i][j+1])\n",
    "        \n",
    "\n",
    "print(x*y)\n"
   ]
  },
  {
   "cell_type": "code",
   "execution_count": null,
   "id": "9746ec90-0064-4351-bd22-06f5ecb3f251",
   "metadata": {},
   "outputs": [],
   "source": []
  }
 ],
 "metadata": {
  "kernelspec": {
   "display_name": "Python 3",
   "language": "python",
   "name": "python3"
  },
  "language_info": {
   "codemirror_mode": {
    "name": "ipython",
    "version": 3
   },
   "file_extension": ".py",
   "mimetype": "text/x-python",
   "name": "python",
   "nbconvert_exporter": "python",
   "pygments_lexer": "ipython3",
   "version": "3.7.8"
  }
 },
 "nbformat": 4,
 "nbformat_minor": 5
}
